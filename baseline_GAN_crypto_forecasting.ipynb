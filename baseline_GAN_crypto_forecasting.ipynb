{
  "nbformat": 4,
  "nbformat_minor": 0,
  "metadata": {
    "colab": {
      "provenance": []
    },
    "kernelspec": {
      "name": "python3",
      "display_name": "Python 3"
    },
    "language_info": {
      "name": "python"
    },
    "accelerator": "GPU",
    "gpuClass": "standard"
  },
  "cells": [
    {
      "cell_type": "code",
      "source": [
        "!pip install tensorflow~=2.10.0"
      ],
      "metadata": {
        "id": "-B9NI9ZJuqwe"
      },
      "execution_count": null,
      "outputs": []
    },
    {
      "cell_type": "code",
      "source": [
        "import numpy as np\n",
        "import pandas as pd\n",
        "import tensorflow as tf\n",
        "import zipfile\n",
        "import os\n",
        "\n",
        "from tensorflow.keras.layers import Input, Dense, Dropout, BatchNormalization, Reshape, Flatten, Conv1D, Conv1DTranspose\n",
        "from keras.layers import LSTM, LeakyReLU, ELU\n",
        "from tensorflow.keras.models import Model, Sequential\n",
        "from tensorflow.keras.optimizers import Adam\n",
        "from tensorflow.keras.initializers import RandomNormal"
      ],
      "metadata": {
        "id": "rBqMlZBFo4kH"
      },
      "execution_count": 26,
      "outputs": []
    },
    {
      "cell_type": "code",
      "source": [
        "! chmod 600 /content/kaggle.json"
      ],
      "metadata": {
        "id": "QYeK3zOBsw6F"
      },
      "execution_count": 17,
      "outputs": []
    },
    {
      "cell_type": "code",
      "source": [
        "! KAGGLE_CONFIG_DIR=/content/ kaggle datasets download -d sudalairajkumar/cryptocurrencypricehistory"
      ],
      "metadata": {
        "colab": {
          "base_uri": "https://localhost:8080/"
        },
        "id": "3tosImIrsxON",
        "outputId": "65fa5700-9794-440d-a357-180edd29f849"
      },
      "execution_count": 4,
      "outputs": [
        {
          "output_type": "stream",
          "name": "stdout",
          "text": [
            "cryptocurrencypricehistory.zip: Skipping, found more recently modified local copy (use --force to force download)\n"
          ]
        }
      ]
    },
    {
      "cell_type": "code",
      "source": [
        "local_zip = '/content/cryptocurrencypricehistory.zip'\n",
        "zip_ref = zipfile.ZipFile(local_zip, 'r')\n",
        "zip_ref.extractall()\n",
        "zip_ref.close()"
      ],
      "metadata": {
        "id": "KcPWqdBptaPP"
      },
      "execution_count": 18,
      "outputs": []
    },
    {
      "cell_type": "code",
      "source": [
        "# Load the data\n",
        "data = pd.read_csv('coin_Bitcoin.csv')\n",
        "print(data.shape)"
      ],
      "metadata": {
        "colab": {
          "base_uri": "https://localhost:8080/"
        },
        "id": "MR4M4f-Suuh2",
        "outputId": "8a7689cd-6312-43c4-cce6-21416833acfd"
      },
      "execution_count": 19,
      "outputs": [
        {
          "output_type": "stream",
          "name": "stdout",
          "text": [
            "(2991, 10)\n"
          ]
        }
      ]
    },
    {
      "cell_type": "code",
      "source": [
        "data"
      ],
      "metadata": {
        "colab": {
          "base_uri": "https://localhost:8080/",
          "height": 424
        },
        "id": "CHRpGK8JvpKb",
        "outputId": "5312bf7f-4603-4b2f-9460-4236a84ee0a3"
      },
      "execution_count": 20,
      "outputs": [
        {
          "output_type": "execute_result",
          "data": {
            "text/plain": [
              "       SNo     Name Symbol                 Date          High           Low  \\\n",
              "0        1  Bitcoin    BTC  2013-04-29 23:59:59    147.488007    134.000000   \n",
              "1        2  Bitcoin    BTC  2013-04-30 23:59:59    146.929993    134.050003   \n",
              "2        3  Bitcoin    BTC  2013-05-01 23:59:59    139.889999    107.720001   \n",
              "3        4  Bitcoin    BTC  2013-05-02 23:59:59    125.599998     92.281898   \n",
              "4        5  Bitcoin    BTC  2013-05-03 23:59:59    108.127998     79.099998   \n",
              "...    ...      ...    ...                  ...           ...           ...   \n",
              "2986  2987  Bitcoin    BTC  2021-07-02 23:59:59  33939.588699  32770.680780   \n",
              "2987  2988  Bitcoin    BTC  2021-07-03 23:59:59  34909.259899  33402.696536   \n",
              "2988  2989  Bitcoin    BTC  2021-07-04 23:59:59  35937.567147  34396.477458   \n",
              "2989  2990  Bitcoin    BTC  2021-07-05 23:59:59  35284.344430  33213.661034   \n",
              "2990  2991  Bitcoin    BTC  2021-07-06 23:59:59  35038.536363  33599.916169   \n",
              "\n",
              "              Open         Close        Volume     Marketcap  \n",
              "0       134.444000    144.539993  0.000000e+00  1.603769e+09  \n",
              "1       144.000000    139.000000  0.000000e+00  1.542813e+09  \n",
              "2       139.000000    116.989998  0.000000e+00  1.298955e+09  \n",
              "3       116.379997    105.209999  0.000000e+00  1.168517e+09  \n",
              "4       106.250000     97.750000  0.000000e+00  1.085995e+09  \n",
              "...            ...           ...           ...           ...  \n",
              "2986  33549.600177  33897.048590  3.872897e+10  6.354508e+11  \n",
              "2987  33854.421362  34668.548402  2.438396e+10  6.499397e+11  \n",
              "2988  34665.564866  35287.779766  2.492431e+10  6.615748e+11  \n",
              "2989  35284.344430  33746.002456  2.672155e+10  6.326962e+11  \n",
              "2990  33723.509655  34235.193451  2.650126e+10  6.418992e+11  \n",
              "\n",
              "[2991 rows x 10 columns]"
            ],
            "text/html": [
              "\n",
              "  <div id=\"df-235d30d0-def6-4310-b68f-6b9e74612be8\">\n",
              "    <div class=\"colab-df-container\">\n",
              "      <div>\n",
              "<style scoped>\n",
              "    .dataframe tbody tr th:only-of-type {\n",
              "        vertical-align: middle;\n",
              "    }\n",
              "\n",
              "    .dataframe tbody tr th {\n",
              "        vertical-align: top;\n",
              "    }\n",
              "\n",
              "    .dataframe thead th {\n",
              "        text-align: right;\n",
              "    }\n",
              "</style>\n",
              "<table border=\"1\" class=\"dataframe\">\n",
              "  <thead>\n",
              "    <tr style=\"text-align: right;\">\n",
              "      <th></th>\n",
              "      <th>SNo</th>\n",
              "      <th>Name</th>\n",
              "      <th>Symbol</th>\n",
              "      <th>Date</th>\n",
              "      <th>High</th>\n",
              "      <th>Low</th>\n",
              "      <th>Open</th>\n",
              "      <th>Close</th>\n",
              "      <th>Volume</th>\n",
              "      <th>Marketcap</th>\n",
              "    </tr>\n",
              "  </thead>\n",
              "  <tbody>\n",
              "    <tr>\n",
              "      <th>0</th>\n",
              "      <td>1</td>\n",
              "      <td>Bitcoin</td>\n",
              "      <td>BTC</td>\n",
              "      <td>2013-04-29 23:59:59</td>\n",
              "      <td>147.488007</td>\n",
              "      <td>134.000000</td>\n",
              "      <td>134.444000</td>\n",
              "      <td>144.539993</td>\n",
              "      <td>0.000000e+00</td>\n",
              "      <td>1.603769e+09</td>\n",
              "    </tr>\n",
              "    <tr>\n",
              "      <th>1</th>\n",
              "      <td>2</td>\n",
              "      <td>Bitcoin</td>\n",
              "      <td>BTC</td>\n",
              "      <td>2013-04-30 23:59:59</td>\n",
              "      <td>146.929993</td>\n",
              "      <td>134.050003</td>\n",
              "      <td>144.000000</td>\n",
              "      <td>139.000000</td>\n",
              "      <td>0.000000e+00</td>\n",
              "      <td>1.542813e+09</td>\n",
              "    </tr>\n",
              "    <tr>\n",
              "      <th>2</th>\n",
              "      <td>3</td>\n",
              "      <td>Bitcoin</td>\n",
              "      <td>BTC</td>\n",
              "      <td>2013-05-01 23:59:59</td>\n",
              "      <td>139.889999</td>\n",
              "      <td>107.720001</td>\n",
              "      <td>139.000000</td>\n",
              "      <td>116.989998</td>\n",
              "      <td>0.000000e+00</td>\n",
              "      <td>1.298955e+09</td>\n",
              "    </tr>\n",
              "    <tr>\n",
              "      <th>3</th>\n",
              "      <td>4</td>\n",
              "      <td>Bitcoin</td>\n",
              "      <td>BTC</td>\n",
              "      <td>2013-05-02 23:59:59</td>\n",
              "      <td>125.599998</td>\n",
              "      <td>92.281898</td>\n",
              "      <td>116.379997</td>\n",
              "      <td>105.209999</td>\n",
              "      <td>0.000000e+00</td>\n",
              "      <td>1.168517e+09</td>\n",
              "    </tr>\n",
              "    <tr>\n",
              "      <th>4</th>\n",
              "      <td>5</td>\n",
              "      <td>Bitcoin</td>\n",
              "      <td>BTC</td>\n",
              "      <td>2013-05-03 23:59:59</td>\n",
              "      <td>108.127998</td>\n",
              "      <td>79.099998</td>\n",
              "      <td>106.250000</td>\n",
              "      <td>97.750000</td>\n",
              "      <td>0.000000e+00</td>\n",
              "      <td>1.085995e+09</td>\n",
              "    </tr>\n",
              "    <tr>\n",
              "      <th>...</th>\n",
              "      <td>...</td>\n",
              "      <td>...</td>\n",
              "      <td>...</td>\n",
              "      <td>...</td>\n",
              "      <td>...</td>\n",
              "      <td>...</td>\n",
              "      <td>...</td>\n",
              "      <td>...</td>\n",
              "      <td>...</td>\n",
              "      <td>...</td>\n",
              "    </tr>\n",
              "    <tr>\n",
              "      <th>2986</th>\n",
              "      <td>2987</td>\n",
              "      <td>Bitcoin</td>\n",
              "      <td>BTC</td>\n",
              "      <td>2021-07-02 23:59:59</td>\n",
              "      <td>33939.588699</td>\n",
              "      <td>32770.680780</td>\n",
              "      <td>33549.600177</td>\n",
              "      <td>33897.048590</td>\n",
              "      <td>3.872897e+10</td>\n",
              "      <td>6.354508e+11</td>\n",
              "    </tr>\n",
              "    <tr>\n",
              "      <th>2987</th>\n",
              "      <td>2988</td>\n",
              "      <td>Bitcoin</td>\n",
              "      <td>BTC</td>\n",
              "      <td>2021-07-03 23:59:59</td>\n",
              "      <td>34909.259899</td>\n",
              "      <td>33402.696536</td>\n",
              "      <td>33854.421362</td>\n",
              "      <td>34668.548402</td>\n",
              "      <td>2.438396e+10</td>\n",
              "      <td>6.499397e+11</td>\n",
              "    </tr>\n",
              "    <tr>\n",
              "      <th>2988</th>\n",
              "      <td>2989</td>\n",
              "      <td>Bitcoin</td>\n",
              "      <td>BTC</td>\n",
              "      <td>2021-07-04 23:59:59</td>\n",
              "      <td>35937.567147</td>\n",
              "      <td>34396.477458</td>\n",
              "      <td>34665.564866</td>\n",
              "      <td>35287.779766</td>\n",
              "      <td>2.492431e+10</td>\n",
              "      <td>6.615748e+11</td>\n",
              "    </tr>\n",
              "    <tr>\n",
              "      <th>2989</th>\n",
              "      <td>2990</td>\n",
              "      <td>Bitcoin</td>\n",
              "      <td>BTC</td>\n",
              "      <td>2021-07-05 23:59:59</td>\n",
              "      <td>35284.344430</td>\n",
              "      <td>33213.661034</td>\n",
              "      <td>35284.344430</td>\n",
              "      <td>33746.002456</td>\n",
              "      <td>2.672155e+10</td>\n",
              "      <td>6.326962e+11</td>\n",
              "    </tr>\n",
              "    <tr>\n",
              "      <th>2990</th>\n",
              "      <td>2991</td>\n",
              "      <td>Bitcoin</td>\n",
              "      <td>BTC</td>\n",
              "      <td>2021-07-06 23:59:59</td>\n",
              "      <td>35038.536363</td>\n",
              "      <td>33599.916169</td>\n",
              "      <td>33723.509655</td>\n",
              "      <td>34235.193451</td>\n",
              "      <td>2.650126e+10</td>\n",
              "      <td>6.418992e+11</td>\n",
              "    </tr>\n",
              "  </tbody>\n",
              "</table>\n",
              "<p>2991 rows × 10 columns</p>\n",
              "</div>\n",
              "      <button class=\"colab-df-convert\" onclick=\"convertToInteractive('df-235d30d0-def6-4310-b68f-6b9e74612be8')\"\n",
              "              title=\"Convert this dataframe to an interactive table.\"\n",
              "              style=\"display:none;\">\n",
              "        \n",
              "  <svg xmlns=\"http://www.w3.org/2000/svg\" height=\"24px\"viewBox=\"0 0 24 24\"\n",
              "       width=\"24px\">\n",
              "    <path d=\"M0 0h24v24H0V0z\" fill=\"none\"/>\n",
              "    <path d=\"M18.56 5.44l.94 2.06.94-2.06 2.06-.94-2.06-.94-.94-2.06-.94 2.06-2.06.94zm-11 1L8.5 8.5l.94-2.06 2.06-.94-2.06-.94L8.5 2.5l-.94 2.06-2.06.94zm10 10l.94 2.06.94-2.06 2.06-.94-2.06-.94-.94-2.06-.94 2.06-2.06.94z\"/><path d=\"M17.41 7.96l-1.37-1.37c-.4-.4-.92-.59-1.43-.59-.52 0-1.04.2-1.43.59L10.3 9.45l-7.72 7.72c-.78.78-.78 2.05 0 2.83L4 21.41c.39.39.9.59 1.41.59.51 0 1.02-.2 1.41-.59l7.78-7.78 2.81-2.81c.8-.78.8-2.07 0-2.86zM5.41 20L4 18.59l7.72-7.72 1.47 1.35L5.41 20z\"/>\n",
              "  </svg>\n",
              "      </button>\n",
              "      \n",
              "  <style>\n",
              "    .colab-df-container {\n",
              "      display:flex;\n",
              "      flex-wrap:wrap;\n",
              "      gap: 12px;\n",
              "    }\n",
              "\n",
              "    .colab-df-convert {\n",
              "      background-color: #E8F0FE;\n",
              "      border: none;\n",
              "      border-radius: 50%;\n",
              "      cursor: pointer;\n",
              "      display: none;\n",
              "      fill: #1967D2;\n",
              "      height: 32px;\n",
              "      padding: 0 0 0 0;\n",
              "      width: 32px;\n",
              "    }\n",
              "\n",
              "    .colab-df-convert:hover {\n",
              "      background-color: #E2EBFA;\n",
              "      box-shadow: 0px 1px 2px rgba(60, 64, 67, 0.3), 0px 1px 3px 1px rgba(60, 64, 67, 0.15);\n",
              "      fill: #174EA6;\n",
              "    }\n",
              "\n",
              "    [theme=dark] .colab-df-convert {\n",
              "      background-color: #3B4455;\n",
              "      fill: #D2E3FC;\n",
              "    }\n",
              "\n",
              "    [theme=dark] .colab-df-convert:hover {\n",
              "      background-color: #434B5C;\n",
              "      box-shadow: 0px 1px 3px 1px rgba(0, 0, 0, 0.15);\n",
              "      filter: drop-shadow(0px 1px 2px rgba(0, 0, 0, 0.3));\n",
              "      fill: #FFFFFF;\n",
              "    }\n",
              "  </style>\n",
              "\n",
              "      <script>\n",
              "        const buttonEl =\n",
              "          document.querySelector('#df-235d30d0-def6-4310-b68f-6b9e74612be8 button.colab-df-convert');\n",
              "        buttonEl.style.display =\n",
              "          google.colab.kernel.accessAllowed ? 'block' : 'none';\n",
              "\n",
              "        async function convertToInteractive(key) {\n",
              "          const element = document.querySelector('#df-235d30d0-def6-4310-b68f-6b9e74612be8');\n",
              "          const dataTable =\n",
              "            await google.colab.kernel.invokeFunction('convertToInteractive',\n",
              "                                                     [key], {});\n",
              "          if (!dataTable) return;\n",
              "\n",
              "          const docLinkHtml = 'Like what you see? Visit the ' +\n",
              "            '<a target=\"_blank\" href=https://colab.research.google.com/notebooks/data_table.ipynb>data table notebook</a>'\n",
              "            + ' to learn more about interactive tables.';\n",
              "          element.innerHTML = '';\n",
              "          dataTable['output_type'] = 'display_data';\n",
              "          await google.colab.output.renderOutput(dataTable, element);\n",
              "          const docLink = document.createElement('div');\n",
              "          docLink.innerHTML = docLinkHtml;\n",
              "          element.appendChild(docLink);\n",
              "        }\n",
              "      </script>\n",
              "    </div>\n",
              "  </div>\n",
              "  "
            ]
          },
          "metadata": {},
          "execution_count": 20
        }
      ]
    },
    {
      "cell_type": "code",
      "source": [
        "# Preprocess the data\n",
        "data = data.dropna()\n",
        "data['date'] = pd.to_datetime(data['Date'], format='%Y-%m-%d %H:%M:%S')\n",
        "data = data.loc[:, ['date', 'Open', 'Close', 'High', 'Low']]\n",
        "data = data.rename({'Open': 'open', 'Close': 'close', 'High': 'high', 'Low': 'low'}, \n",
        "                    axis=1)\n",
        "data = data.set_index('date')\n",
        "data = data.asfreq('D')\n",
        "data = data.sort_index()"
      ],
      "metadata": {
        "id": "OQp2tjBbozQz"
      },
      "execution_count": 21,
      "outputs": []
    },
    {
      "cell_type": "code",
      "source": [
        "from sklearn.preprocessing import MinMaxScaler\n",
        "\n",
        "scaler = MinMaxScaler(feature_range=(0, 1))\n",
        "data = scaler.fit_transform(data)"
      ],
      "metadata": {
        "id": "HTFs25b4wscm"
      },
      "execution_count": 22,
      "outputs": []
    },
    {
      "cell_type": "code",
      "source": [
        "data"
      ],
      "metadata": {
        "colab": {
          "base_uri": "https://localhost:8080/"
        },
        "id": "OBzKF3lpyiY-",
        "outputId": "a2fbce57-1b9b-41a1-dd36-2fc9db44b77c"
      },
      "execution_count": 23,
      "outputs": [
        {
          "output_type": "execute_result",
          "data": {
            "text/plain": [
              "array([[0.00103914, 0.00119979, 0.00112561, 0.00110187],\n",
              "       [0.00118974, 0.00111246, 0.001117  , 0.00110267],\n",
              "       [0.00111094, 0.00076549, 0.00100834, 0.00067898],\n",
              "       ...,\n",
              "       [0.54521982, 0.5552035 , 0.55353936, 0.55244693],\n",
              "       [0.55497125, 0.53089867, 0.54345698, 0.53341328],\n",
              "       [0.53037384, 0.53861036, 0.53966298, 0.53962882]])"
            ]
          },
          "metadata": {},
          "execution_count": 23
        }
      ]
    },
    {
      "cell_type": "code",
      "execution_count": 27,
      "metadata": {
        "id": "VKPeOw1VnvZx"
      },
      "outputs": [],
      "source": [
        "# Define the generator model\n",
        "def make_generator_model():\n",
        "    model = Sequential([\n",
        "        Dense(256, input_shape=(100,), kernel_initializer=RandomNormal(stddev=0.02)),\n",
        "        BatchNormalization(),\n",
        "        Dense(512),\n",
        "        BatchNormalization(),\n",
        "        Dense(1024),\n",
        "        BatchNormalization(),\n",
        "        Dense(2048),\n",
        "        BatchNormalization(),\n",
        "        Dense(4096),\n",
        "        BatchNormalization(),\n",
        "        Dense(2048),\n",
        "        BatchNormalization(),\n",
        "        Dense(1024),\n",
        "        BatchNormalization(),\n",
        "        Dense(512),\n",
        "        BatchNormalization(),\n",
        "        Dense(256),\n",
        "        BatchNormalization(),\n",
        "        Dense(24*7*4*4, activation='tanh'),\n",
        "        Reshape((24*7*4, 4))\n",
        "    ])\n",
        "    return model\n",
        "\n",
        "# Define the discriminator model\n",
        "def make_discriminator_model():\n",
        "    model = Sequential([\n",
        "        Conv1D(64, 3, strides=2, padding='same', input_shape=(24*7*4, 4)),\n",
        "        Dropout(0.5),\n",
        "        Conv1D(128, 3, strides=2, padding='same'),\n",
        "        Dropout(0.5),\n",
        "        Conv1D(256, 3, strides=2, padding='same'),\n",
        "        Dropout(0.5),\n",
        "        Conv1D(512, 3, strides=2, padding='same'),\n",
        "        Dropout(0.5),\n",
        "        Flatten(),\n",
        "        Dense(1, activation='sigmoid')\n",
        "    ])\n",
        "    return model\n",
        "\n",
        "# Combine the generator and discriminator models to form a GAN\n",
        "def make_gan_model(generator, discriminator):\n",
        "    discriminator.trainable = False\n",
        "    gan_input = Input(shape=(100,))\n",
        "    gan_output = discriminator(generator(gan_input))\n",
        "    model = Model(gan_input, gan_output)\n",
        "    return model"
      ]
    },
    {
      "cell_type": "code",
      "source": [
        "# Set hyperparameters\n",
        "epochs = 1001\n",
        "batch_size = 128\n",
        "\n",
        "# Create the generator, discriminator, and GAN models\n",
        "generator = make_generator_model()\n",
        "discriminator = make_discriminator_model()\n",
        "gan = make_gan_model(generator, discriminator)\n",
        "\n",
        "# Compile the discriminator\n",
        "discriminator.compile(loss='binary_crossentropy', optimizer=Adam(lr=0.0002, beta_1=0.5))\n",
        "\n",
        "# Compile the GAN\n",
        "gan.compile(loss='binary_crossentropy', optimizer=Adam(lr=0.0002, beta_1=0.5))"
      ],
      "metadata": {
        "colab": {
          "base_uri": "https://localhost:8080/"
        },
        "id": "EYx1dneoxhst",
        "outputId": "f2d5f40d-3cbc-4529-a57b-61a10e9198b6"
      },
      "execution_count": 28,
      "outputs": [
        {
          "output_type": "stream",
          "name": "stderr",
          "text": [
            "/usr/local/lib/python3.9/dist-packages/keras/optimizers/optimizer_v2/adam.py:114: UserWarning: The `lr` argument is deprecated, use `learning_rate` instead.\n",
            "  super().__init__(name, **kwargs)\n"
          ]
        }
      ]
    },
    {
      "cell_type": "code",
      "source": [
        "# Assuming data is a numpy array of shape (num_samples, 4)\n",
        "new_data = data[:, [0, 3]]\n",
        "num_samples = data.shape[0]\n",
        "time_steps = 672\n",
        "features = 4\n",
        "\n",
        "# Create a new numpy array of shape (num_samples - time_steps + 1, time_steps, features)\n",
        "new_data = np.zeros((num_samples - time_steps + 1, time_steps, features))\n",
        "\n",
        "# Fill the new numpy array with rolling windows of size time_steps\n",
        "for i in range(num_samples - time_steps + 1):\n",
        "    new_data[i] = data[i:i+time_steps, :]"
      ],
      "metadata": {
        "id": "2YGi8MyPy62h"
      },
      "execution_count": null,
      "outputs": []
    },
    {
      "cell_type": "code",
      "source": [
        "# create output data for generated data\n",
        "if not os.path.exists('/content/output'):\n",
        "  os.makedirs('/content/output')\n",
        "\n",
        "# Train the GAN\n",
        "for epoch in range(epochs):\n",
        "    # Train the discriminator\n",
        "    idx = np.random.randint(0, new_data.shape[0], batch_size)\n",
        "    real_data = new_data[idx]\n",
        "    noise = np.random.normal(0, 1, (batch_size, 100))\n",
        "    fake_data = generator.predict(noise)\n",
        "    d_loss_real = discriminator.train_on_batch(real_data, np.ones((batch_size, 1)))\n",
        "    d_loss_fake = discriminator.train_on_batch(fake_data, np.zeros((batch_size, 1)))\n",
        "    d_loss = 0.5 * np.add(d_loss_real, d_loss_fake)\n",
        "    # Train the generator\n",
        "    noise = np.random.normal(0, 1, (batch_size, 100))\n",
        "    g_loss = gan.train_on_batch(noise, np.ones((batch_size, 1)))\n",
        "    # Print progress\n",
        "    print(f'Epoch {epoch+1}/{epochs} - D loss: {d_loss} - G loss: {g_loss}')\n",
        "    # Save generated samples every 100 epochs\n",
        "    if (epoch+1) % 200 == 0:\n",
        "        noise = np.random.normal(0, 1, (1, 100))\n",
        "        generated_data = generator.predict(noise)\n",
        "        generated_data = generated_data.reshape((24*7*4, 4))\n",
        "        generated_data = scaler.inverse_transform(generated_data)\n",
        "        generated_data = pd.DataFrame(generated_data, columns=['open', 'close', 'high', 'low'])\n",
        "        generated_data.to_csv(f'/content/output/generated_data_epoch{epoch+1}.csv', index=False)"
      ],
      "metadata": {
        "id": "jYOj3zG0ow_t"
      },
      "execution_count": null,
      "outputs": []
    },
    {
      "cell_type": "code",
      "source": [
        "import matplotlib.pyplot as plt\n",
        "reversed_data = scaler.inverse_transform(data) \n",
        "df = pd.DataFrame(reversed_data, columns=['open', 'close', 'high', 'low'])\n",
        "df.index = pd.date_range(start='2013-04-29', periods=len(df), freq='D')\n",
        "\n",
        "df_generated = pd.read_csv('/content/output/generated_data_epoch200.csv')\n",
        "df_generated.index = pd.date_range(start='2021-07-06', periods=len(df_generated), freq='D')\n",
        "\n",
        "# # Create the plot\n",
        "fig, ax = plt.subplots(figsize=(10, 5))\n",
        "\n",
        "ax.plot(df.index, df['open'], label='Open', color='blue')\n",
        "# ax.plot(df.index, df['close'], label='Close', color='orange')\n",
        "# ax.plot(df.index, df['high'], label='High', color='green')\n",
        "# ax.plot(df.index, df['low'], label='Low', color='red')\n",
        "\n",
        "ax.plot(df_generated.index, df_generated['open'], label='Open 2', linestyle='--', color='blue')\n",
        "# ax.plot(df_generated.index, df_generated['close'], label='Close 2', linestyle='--', color='orange')\n",
        "# ax.plot(df_generated.index, df_generated['high'], label='High 2', linestyle='--', color='green')\n",
        "# ax.plot(df_generated.index, df_generated['low'], label='Low 2', linestyle='--', color='red')\n",
        "\n",
        "ax.set_xlabel('Date')\n",
        "ax.set_ylabel('Price')\n",
        "ax.set_title('Time Series Plot')\n",
        "ax.legend()\n",
        "plt.show()"
      ],
      "metadata": {
        "id": "htP68Zk6GRtp"
      },
      "execution_count": null,
      "outputs": []
    },
    {
      "cell_type": "code",
      "source": [
        "df"
      ],
      "metadata": {
        "id": "IMvQntfeLLK2"
      },
      "execution_count": null,
      "outputs": []
    },
    {
      "cell_type": "code",
      "source": [],
      "metadata": {
        "id": "CjJeIyDdLgRQ"
      },
      "execution_count": null,
      "outputs": []
    }
  ]
}